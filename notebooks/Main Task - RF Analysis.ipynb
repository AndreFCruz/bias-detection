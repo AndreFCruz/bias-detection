{
 "cells": [
  {
   "cell_type": "code",
   "execution_count": 1,
   "metadata": {},
   "outputs": [],
   "source": [
    "\"\"\"\n",
    "Analysis/interpretation of the Random Forest Classifier trained for detection of Hyperpartisan News.\n",
    "(SemEval2019 Task on \"Hyperpartisan News Detection\")\n",
    "\"\"\"\n",
    "CLASSIFIER_PATH  = '../classifiers/RF_by-article_stats-and-counts.pickle'\n",
    "DOC_ENCODER_PATH = '../generated_datasets/DocEncoder_by-article_stats-and-counts.pickle'\n",
    "DATASET_PATH     = '../generated_datasets/by-article_stats-and-counts.npz'"
   ]
  },
  {
   "cell_type": "code",
   "execution_count": 2,
   "metadata": {},
   "outputs": [],
   "source": [
    "import pickle\n",
    "import numpy as np\n",
    "\n",
    "rf_clf = pickle.load(open(CLASSIFIER_PATH, 'rb'))  ## Random Forest Classifier"
   ]
  },
  {
   "cell_type": "code",
   "execution_count": 3,
   "metadata": {},
   "outputs": [],
   "source": [
    "## Analyze Dataset\n",
    "dataset = np.load(DATASET_PATH)\n",
    "X, y = dataset['X'], dataset['y']"
   ]
  },
  {
   "cell_type": "code",
   "execution_count": 4,
   "metadata": {},
   "outputs": [],
   "source": [
    "import os, sys\n",
    "\n",
    "sys.path.insert(1, os.path.join(sys.path[0], '../src'))\n",
    "import document_encoder\n",
    "\n",
    "encoder = pickle.load(open(DOC_ENCODER_PATH, 'rb'))\n",
    "counter = encoder.counter  ## CountVectorizer"
   ]
  },
  {
   "cell_type": "code",
   "execution_count": 5,
   "metadata": {},
   "outputs": [],
   "source": [
    "## Invert word->idx mapping to get features' names\n",
    "idx_to_word = {idx: '\"{}\"'.format(word) for word, idx in counter.vocabulary_.items()}\n",
    "word_feature_names = [idx_to_word[i] for i in sorted(idx_to_word.keys())]"
   ]
  },
  {
   "cell_type": "code",
   "execution_count": 6,
   "metadata": {},
   "outputs": [],
   "source": [
    "statistical_feature_names = [\n",
    "    'num_sentences',       ## Number of sentences\n",
    "    'avg_sent_word_len',   ## Average sentence length in words\n",
    "    'avg_sent_char_len',   ## Average sentence length in chars\n",
    "    'var_sent_char_len',   ## Variance of sentence length in chars\n",
    "    'avg_word_len',        ## Average word length\n",
    "    'var_word_len',        ## Variance of word length\n",
    "    'punct_freq',          ## Frequency of punctuation\n",
    "    'capital_freq',        ## Frequency of capital letters\n",
    "    'types_atoms_ratio'    ## Types to atoms ratio\n",
    "]"
   ]
  },
  {
   "cell_type": "code",
   "execution_count": 7,
   "metadata": {},
   "outputs": [],
   "source": [
    "feature_names = statistical_feature_names + word_feature_names"
   ]
  },
  {
   "cell_type": "code",
   "execution_count": 8,
   "metadata": {},
   "outputs": [
    {
     "data": {
      "text/plain": [
       "array([0.07098779, 0.03089282, 0.03175361, 0.03549271, 0.03012492,\n",
       "       0.03813169, 0.03928453, 0.0453966 , 0.04400098, 0.02051239,\n",
       "       0.03893597, 0.00742571, 0.01225441, 0.00461132, 0.01265352,\n",
       "       0.00978777, 0.00850962, 0.00760899, 0.00943164, 0.00852886,\n",
       "       0.00765101, 0.00630694, 0.00381572, 0.00464075, 0.01347229,\n",
       "       0.00917908, 0.00669274, 0.00522424, 0.01901321, 0.0104065 ,\n",
       "       0.01493992, 0.02267638, 0.00512259, 0.00948857, 0.00877956,\n",
       "       0.01144004, 0.01083058, 0.0115706 , 0.00659671, 0.01233621,\n",
       "       0.00641018, 0.03302811, 0.03064863, 0.01109274, 0.00887792,\n",
       "       0.01149064, 0.01460757, 0.01150031, 0.0067093 , 0.01234446,\n",
       "       0.01576297, 0.00787356, 0.00808254, 0.0355903 , 0.03026035,\n",
       "       0.01584296, 0.00913141, 0.01011466, 0.01412192])"
      ]
     },
     "execution_count": 8,
     "metadata": {},
     "output_type": "execute_result"
    }
   ],
   "source": [
    "## Classifier Feature Importances\n",
    "rf_clf.feature_importances_"
   ]
  },
  {
   "cell_type": "code",
   "execution_count": 9,
   "metadata": {},
   "outputs": [],
   "source": [
    "## Post-pruning DT: https://stackoverflow.com/questions/49428469/pruning-decision-trees\n",
    "from sklearn.tree._tree import TREE_LEAF\n",
    "\n",
    "def prune_tree(tree, prune_pred):\n",
    "    prune_at_index(tree, 0, prune_pred)\n",
    "\n",
    "def prune_at_index(inner_tree, index, prune_pred):\n",
    "    if prune_pred(inner_tree.value[index]):\n",
    "        # turn node into a leaf by \"unlinking\" its children\n",
    "        inner_tree.children_left[index] = TREE_LEAF\n",
    "        inner_tree.children_right[index] = TREE_LEAF\n",
    "    # if there are shildren, visit them as well\n",
    "    if inner_tree.children_left[index] != TREE_LEAF:\n",
    "        prune_at_index(inner_tree, inner_tree.children_left[index], prune_pred)\n",
    "        prune_at_index(inner_tree, inner_tree.children_right[index], prune_pred)"
   ]
  },
  {
   "cell_type": "code",
   "execution_count": 10,
   "metadata": {},
   "outputs": [],
   "source": [
    "## Performance of each of the RF's estimators\n",
    "estimator_scores = [est.score(X, y) for est in rf_clf.estimators_]\n",
    "best_estimator_idx = np.argmax(estimator_scores) ## Best individual estimator"
   ]
  },
  {
   "cell_type": "code",
   "execution_count": 11,
   "metadata": {},
   "outputs": [],
   "source": [
    "from sklearn import tree\n",
    "import random\n",
    "\n",
    "dt = rf_clf[best_estimator_idx]\n",
    "\n",
    "## Aggressive pruning so the tree's visualization is not gigantic...\n",
    "#prune_tree(dt.tree_, lambda counts: ((counts.min() / counts.sum()) < 0.3) or (counts.min() < 10))\n",
    "#prune_tree(dt.tree_, lambda counts: (counts.min() / counts.sum()) < 0.3)"
   ]
  },
  {
   "cell_type": "code",
   "execution_count": 12,
   "metadata": {},
   "outputs": [
    {
     "data": {
      "text/plain": [
       "\"\\nfrom sklearn import tree\\nfrom graphviz import Source\\nimport random\\n\\ngraph = Source(\\n    tree.export_graphviz(\\n        dt, out_file=None, feature_names=feature_names,\\n        label='root', class_names=['Mainstream', 'Hyperpartisan'], ## Double-checked labels, seem correct\\n        #impurity=False, filled=True,\\n        #max_depth=10\\n))\\n## 1 (true) means 'Hyperpartisan'; 0 (false) means 'Mainstream'\\n\\ngraph.format = 'png'\\ngraph.render('hyp_news_dt_by-article', view=False)\\n#graph\\n\""
      ]
     },
     "execution_count": 12,
     "metadata": {},
     "output_type": "execute_result"
    }
   ],
   "source": [
    "\"\"\"\n",
    "from sklearn import tree\n",
    "from graphviz import Source\n",
    "import random\n",
    "\n",
    "graph = Source(\n",
    "    tree.export_graphviz(\n",
    "        dt, out_file=None, feature_names=feature_names,\n",
    "        label='root', class_names=['Mainstream', 'Hyperpartisan'], ## Double-checked labels, seem correct\n",
    "        #impurity=False, filled=True,\n",
    "        #max_depth=10\n",
    "))\n",
    "## 1 (true) means 'Hyperpartisan'; 0 (false) means 'Mainstream'\n",
    "\n",
    "graph.format = 'png'\n",
    "graph.render('hyp_news_dt_by-article', view=False)\n",
    "#graph\n",
    "\"\"\""
   ]
  },
  {
   "cell_type": "code",
   "execution_count": 13,
   "metadata": {},
   "outputs": [],
   "source": [
    "def get_decision_path(indicator, n_nodes_ptr, estimator_idx):\n",
    "    \"\"\"\n",
    "    Returns matrix where 1-valued entries indicate the sample goes through the node at that index.\n",
    "    \"\"\"\n",
    "    return indicator[:, n_nodes_ptr[estimator_idx]: n_nodes_ptr[estimator_idx+1]].todense()"
   ]
  },
  {
   "cell_type": "code",
   "execution_count": 14,
   "metadata": {},
   "outputs": [],
   "source": [
    "def get_vote_counts(rf, sample):\n",
    "    votes = {0: 0, 1: 0}\n",
    "    for est in rf_clf.estimators_:\n",
    "        votes[np.asscalar(est.predict(sample_input))] += 1\n",
    "    return votes"
   ]
  },
  {
   "cell_type": "code",
   "execution_count": 15,
   "metadata": {},
   "outputs": [],
   "source": [
    "def print_decision_path(dt, X, sample_idx):\n",
    "    \"\"\"\n",
    "    Prints decision path for the given X[sample_idx] on\n",
    "     the given decision tree.\n",
    "    \"\"\"\n",
    "    node_indicator = dt.decision_path(X)\n",
    "    leave_id = dt.apply(X)\n",
    "\n",
    "    node_index = node_indicator.indices[\n",
    "                    node_indicator.indptr[sample_idx]:\n",
    "                    node_indicator.indptr[sample_idx + 1]]\n",
    "\n",
    "    feature = dt.tree_.feature\n",
    "    threshold = dt.tree_.threshold\n",
    "\n",
    "    print('Rules used to predict sample %s: ' % sample_idx)\n",
    "    for node_id in node_index:\n",
    "        if leave_id[sample_idx] == node_id:\n",
    "            continue\n",
    "\n",
    "        if (X[sample_idx, feature[node_id]] <= threshold[node_id]):\n",
    "            threshold_sign = \"<=\"\n",
    "        else:\n",
    "            threshold_sign = \">\"\n",
    "\n",
    "        print(\"decision id node %s :\\t(X[%s, %s] (= %s) %s %s)\"\n",
    "              % (node_id,\n",
    "                 sample_idx,\n",
    "                 feature[node_id],\n",
    "                 X[sample_idx, feature[node_id]],\n",
    "                 threshold_sign,\n",
    "                 threshold[node_id]))"
   ]
  },
  {
   "cell_type": "code",
   "execution_count": 16,
   "metadata": {},
   "outputs": [
    {
     "name": "stdout",
     "output_type": "stream",
     "text": [
      "Predicted: [1.]\n",
      "\n",
      "Rules used to predict sample 1: \n",
      "decision id node 0 :\t(X[1, 53] (= 0.0) <= 0.5)\n",
      "decision id node 1 :\t(X[1, 35] (= 0.0) <= 0.5)\n",
      "decision id node 2 :\t(X[1, 24] (= 0.0) <= 0.5)\n",
      "decision id node 3 :\t(X[1, 57] (= 0.0) <= 2.0)\n",
      "decision id node 4 :\t(X[1, 7] (= 0.05253012105822563) > 0.024064072407782078)\n",
      "decision id node 10 :\t(X[1, 27] (= 4.0) > 3.5)\n"
     ]
    }
   ],
   "source": [
    "sample_idx = 1\n",
    "print('Predicted:', rf_clf.predict(X[sample_idx:sample_idx+1, :]), end='\\n\\n')\n",
    "print_decision_path(dt, X, sample_idx)"
   ]
  },
  {
   "cell_type": "code",
   "execution_count": 17,
   "metadata": {},
   "outputs": [],
   "source": [
    "from sklearn.model_selection import StratifiedKFold, StratifiedShuffleSplit\n",
    "from sklearn.metrics import accuracy_score\n",
    "from collections import defaultdict\n",
    "\n",
    "def compute_feature_importances(clf, X, y, n_splits=10):\n",
    "\n",
    "    impurity_dec = np.zeros((X.shape[1])) ## Mean impurity decrease\n",
    "    acc_dec = defaultdict(list) ## Mean accuracy decrease\n",
    "    \n",
    "    splitter = StratifiedShuffleSplit(n_splits=n_splits, test_size=0.5)\n",
    "    \n",
    "    ## Cross-validate per-feature scores of mean accuracy decrease\n",
    "    for train_idx, test_idx in splitter.split(X, y):\n",
    "        X_train, X_test = X[train_idx], X[test_idx]\n",
    "        y_train, y_test = y[train_idx], y[test_idx]\n",
    "        \n",
    "        clf.fit(X_train, y_train)\n",
    "        acc = accuracy_score(y_test, clf.predict(X_test))\n",
    "        impurity_dec = np.add(impurity_dec, clf.feature_importances_)\n",
    "        \n",
    "        for i in range(X.shape[1]): ## For each feature\n",
    "            X_t = X_test.copy()\n",
    "            np.random.shuffle(X_t[:, i])\n",
    "            shuff_acc = accuracy_score(y_test, clf.predict(X_t))\n",
    "            acc_dec[i].append((acc - shuff_acc) / acc)\n",
    "            \n",
    "    impurity_dec = impurity_dec / n_splits\n",
    "    return acc_dec, impurity_dec"
   ]
  },
  {
   "cell_type": "code",
   "execution_count": 18,
   "metadata": {},
   "outputs": [],
   "source": [
    "GRAD_BOOST_TREE_PATH = '../classifiers/grid_search_best_GradBoostTree_78.14.pickle'\n",
    "RAND_FOREST_PATH     = '../classifiers/grid_search_best_RF_77.98.pickle'\n",
    "gbt_clf = pickle.load(open(GRAD_BOOST_TREE_PATH, 'rb'))  ## Random Forest Classifier\n",
    "rf_clf  = pickle.load(open(RAND_FOREST_PATH, 'rb'))"
   ]
  },
  {
   "cell_type": "code",
   "execution_count": 41,
   "metadata": {},
   "outputs": [],
   "source": [
    "N_SPLITS = 200\n",
    "rf_acc_dec, rf_imp_dec = compute_feature_importances(rf_clf, X, y, n_splits=N_SPLITS)\n",
    "gbt_acc_dec, gbt_imp_dec = compute_feature_importances(gbt_clf, X, y, n_splits=N_SPLITS)"
   ]
  },
  {
   "cell_type": "code",
   "execution_count": 42,
   "metadata": {},
   "outputs": [],
   "source": [
    "### Most important features by Mean Impurity Decrease\n",
    "TOP_N = 10 ## Top-N features to plot\n",
    "\n",
    "## Importance == Impurity Decrease\n",
    "\n",
    "#rf_imps = rf_clf.feature_importances_   ## Use final model\n",
    "#gbt_imps = gbt_clf.feature_importances_\n",
    "\n",
    "rf_imps = rf_imp_dec                    ## Use cross-validated averages\n",
    "gbt_imps = gbt_imp_dec\n",
    "\n",
    "rf_indices = np.argsort(rf_imps)\n",
    "gbt_indices = np.argsort(gbt_imps)\n",
    "\n",
    "## Most important features by average feature importance over both classifiers\n",
    "joined_imps = np.add(rf_imps, gbt_imps) / 2\n",
    "joined_idxs = np.argsort(joined_imps)[-TOP_N:]\n",
    "\n",
    "## Most important features by joining top-N features of both classifiers\n",
    "#joined_idxs = np.intersect1d(rf_indices[-TOP_N:], gbt_indices[-TOP_N:])[::-1]"
   ]
  },
  {
   "cell_type": "code",
   "execution_count": 43,
   "metadata": {},
   "outputs": [
    {
     "data": {
      "image/png": "[encoded data removed]",
      "text/plain": [
       "<Figure size 252x360 with 1 Axes>"
      ]
     },
     "metadata": {
      "needs_background": "light"
     },
     "output_type": "display_data"
    }
   ],
   "source": [
    "## Plot feature importances (mean impurity decrease)\n",
    "from matplotlib import pyplot as plt\n",
    "%matplotlib inline\n",
    "\n",
    "fig, ax = plt.subplots()\n",
    "\n",
    "bar_width = 0.4\n",
    "\n",
    "yticks = list(range(len(joined_idxs)))\n",
    "\n",
    "ax.set_title('Top {} Features by Impurity Dec.'.format(TOP_N))\n",
    "ax.barh([x - bar_width / 2 for x in yticks], rf_imps[joined_idxs], bar_width, color='b', align='center', label='RF')\n",
    "ax.barh([x + bar_width / 2 for x in yticks], gbt_imps[joined_idxs], bar_width, color='r', align='center', label='GBT')\n",
    "#ax.barh(yticks, joined_imps[joined_idxs], bar_width, color='g', align='center', label='avg') ## Average of both\n",
    "\n",
    "plt.yticks(yticks, [feature_names[i] for i in joined_idxs])\n",
    "ax.set_xlabel('Normalized mean impurity decrease')\n",
    "ax.legend()\n",
    "\n",
    "fig.set_size_inches(3.5, 5)\n",
    "plt.savefig('../imgs/mean_impurity_decrease_top-{}.png'.format(TOP_N), dpi=300, bbox_inches='tight')"
   ]
  },
  {
   "cell_type": "code",
   "execution_count": 44,
   "metadata": {},
   "outputs": [],
   "source": [
    "def top_k_features(scores, k):\n",
    "    \"\"\"\n",
    "    Computes top-k features (by mean accuracy decrease scores)\n",
    "    \"\"\"\n",
    "    avg_scores = [sum(scores[i]) / len(scores[i]) for i in sorted(scores.keys())]\n",
    "    \n",
    "    ## Indices for sorted avg_scores in increasing order\n",
    "    avg_sc_indices = np.argsort(avg_scores)[-k:] ## Last k features\n",
    "    return {feature_names[i]: avg_scores[i] for i in avg_sc_indices}"
   ]
  },
  {
   "cell_type": "code",
   "execution_count": 45,
   "metadata": {},
   "outputs": [],
   "source": [
    "K = 40\n",
    "\n",
    "top_k_rf = top_k_features(rf_acc_dec, K)\n",
    "top_k_gbt = top_k_features(gbt_acc_dec, K)"
   ]
  },
  {
   "cell_type": "code",
   "execution_count": 46,
   "metadata": {},
   "outputs": [],
   "source": [
    "## Average scores over the 2 classifiers\n",
    "avg_scores = {k: ((top_k_rf[k] + top_k_gbt[k]) / 2) for k in set(top_k_rf.keys()) & set(top_k_gbt.keys())}"
   ]
  },
  {
   "cell_type": "code",
   "execution_count": 47,
   "metadata": {},
   "outputs": [],
   "source": [
    "import operator\n",
    "\n",
    "top_n_overall = sorted([(k,v) for k, v in avg_scores.items()], key=operator.itemgetter(1))[-TOP_N:]"
   ]
  },
  {
   "cell_type": "code",
   "execution_count": 48,
   "metadata": {},
   "outputs": [
    {
     "data": {
      "image/png": "[encoded data removed]",
      "text/plain": [
       "<Figure size 252x360 with 1 Axes>"
      ]
     },
     "metadata": {
      "needs_background": "light"
     },
     "output_type": "display_data"
    }
   ],
   "source": [
    "## Plot Mean Accuracy Decrease\n",
    "fig, ax = plt.subplots()\n",
    "\n",
    "bar_width = 0.4\n",
    "\n",
    "yticks = list(range(len(top_n_overall)))\n",
    "\n",
    "ax.set_title('Top {} Features by Accuracy Dec.'.format(TOP_N))\n",
    "ax.barh([x - bar_width / 2 for x in yticks], [top_k_rf[k] * 100 for k, v in top_n_overall], bar_width, color='b', align='center', label='RF')\n",
    "ax.barh([x + bar_width / 2 for x in yticks], [top_k_gbt[k] * 100 for k, v in top_n_overall], bar_width, color='r', align='center', label='GBT')\n",
    "#ax.barh(yticks, [v * 100 for k, v in top_n_overall], bar_width, color='g', align='center', label='avg') ## Average\n",
    "\n",
    "plt.yticks(yticks, [k for k,v in top_n_overall])\n",
    "ax.set_xlabel('Relative accuracy decrease (%)')\n",
    "ax.legend()\n",
    "\n",
    "fig.set_size_inches(3.5, 5)\n",
    "plt.savefig('../imgs/mean_accuracy_decrease_top-{}.png'.format(TOP_N), dpi=300, bbox_inches='tight')"
   ]
  },
  {
   "cell_type": "code",
   "execution_count": null,
   "metadata": {},
   "outputs": [],
   "source": []
  }
 ],
 "metadata": {
  "kernelspec": {
   "display_name": "Python 3",
   "language": "python",
   "name": "python3"
  },
  "language_info": {
   "codemirror_mode": {
    "name": "ipython",
    "version": 3
   },
   "file_extension": ".py",
   "mimetype": "text/x-python",
   "name": "python",
   "nbconvert_exporter": "python",
   "pygments_lexer": "ipython3",
   "version": "3.5.6"
  }
 },
 "nbformat": 4,
 "nbformat_minor": 2
}
