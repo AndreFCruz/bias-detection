{
 "cells": [
  {
   "cell_type": "code",
   "execution_count": 2,
   "metadata": {},
   "outputs": [],
   "source": [
    "TRAIN_DATASET_PATH = '../meta-learning-task/pan19-hyperpartisan-news-detection-by-article-meta-training-dataset-2019-02-04/'\n",
    "GROUND_TRUTH_PATH  = '../meta-learning-task/pan19-hyperpartisan-news-detection-by-article-meta-training-dataset-2019-02-04/ground-truth/'"
   ]
  },
  {
   "cell_type": "code",
   "execution_count": 3,
   "metadata": {},
   "outputs": [],
   "source": [
    "import os\n",
    "import csv\n",
    "\n",
    "data = dict()\n",
    "\n",
    "for file in os.listdir(TRAIN_DATASET_PATH):\n",
    "    if file.endswith('.txt'):\n",
    "        with open(TRAIN_DATASET_PATH + file) as in_file:\n",
    "            reader = csv.reader(in_file, delimiter=' ') ## csv with space delimiters\n",
    "            data = {row[0]: [(w == 'true') for w in row[1:]] for row in reader}"
   ]
  },
  {
   "cell_type": "code",
   "execution_count": 4,
   "metadata": {},
   "outputs": [],
   "source": [
    "truth = dict()\n",
    "\n",
    "for file in os.listdir(GROUND_TRUTH_PATH):\n",
    "    if file.endswith('.txt'):\n",
    "        with open(GROUND_TRUTH_PATH + file) as in_file:\n",
    "            reader = csv.reader(in_file, delimiter=' ') ## csv with space delimiters\n",
    "            truth = {row[0]: (row[1] == 'true') for row in reader}\n",
    "            \n",
    "assert len(data) == len(truth)"
   ]
  },
  {
   "cell_type": "code",
   "execution_count": 5,
   "metadata": {},
   "outputs": [],
   "source": [
    "import numpy as np\n",
    "\n",
    "X = np.array([data[key] for key in sorted(data.keys())], dtype=np.bool)\n",
    "y = np.array([truth[key] for key in sorted(data.keys())], dtype=np.bool)\n",
    "\n",
    "from sklearn.model_selection import train_test_split\n",
    "X_train, X_test, y_train, y_test = train_test_split(X, y, test_size=0.2, stratify=y)"
   ]
  },
  {
   "cell_type": "code",
   "execution_count": 6,
   "metadata": {},
   "outputs": [
    {
     "name": "stdout",
     "output_type": "stream",
     "text": [
      "\n",
      "** Majority Vote Performance **\n",
      "\n",
      "Accuracy on whole dataset:\t 0.8261904761904761\n",
      "              precision    recall  f1-score   support\n",
      "\n",
      "       False       0.82      0.84      0.83       210\n",
      "        True       0.83      0.81      0.82       210\n",
      "\n",
      "   micro avg       0.83      0.83      0.83       420\n",
      "   macro avg       0.83      0.83      0.83       420\n",
      "weighted avg       0.83      0.83      0.83       420\n",
      "\n",
      "Accuracy on test dataset:\t 0.7976190476190477\n",
      "Accuracy on train dataset:\t 0.8333333333333334\n"
     ]
    }
   ],
   "source": [
    "## Metrics for Simple Majority Vote Classifier\n",
    "from sklearn.metrics import classification_report, accuracy_score\n",
    "\n",
    "majority_vote = lambda x: sum(x) > (len(x) / 2)\n",
    "y_pred = [majority_vote(x) for x in X]\n",
    "y_test_pred = [majority_vote(x) for x in X_test]\n",
    "y_train_pred = [majority_vote(x) for x in X_train]\n",
    "\n",
    "print('\\n** Majority Vote Performance **\\n')\n",
    "print('Accuracy on whole dataset:\\t', accuracy_score(y, y_pred))\n",
    "print(classification_report(y, y_pred))\n",
    "\n",
    "print('Accuracy on test dataset:\\t', accuracy_score(y_test, y_test_pred))\n",
    "#print(classification_report(y_test, y_test_pred))\n",
    "\n",
    "print('Accuracy on train dataset:\\t', accuracy_score(y_train, y_train_pred))\n",
    "#print(classification_report(y_train, y_train_pred))"
   ]
  },
  {
   "cell_type": "code",
   "execution_count": 7,
   "metadata": {},
   "outputs": [],
   "source": [
    "from keras.models import Model\n",
    "from keras.layers import Input, Dense, Dropout, Lambda, Concatenate, Reshape\n",
    "from keras import backend as K\n",
    "\n",
    "def create_model(num_input_features):\n",
    "    inp = Input(shape=(num_input_features,), dtype='float32')\n",
    "    vote = Lambda(lambda x: K.sum(x, axis=1), name='vote_sum')(inp)\n",
    "    vote = Reshape((1,))(vote)\n",
    "    merge = Concatenate()([inp, vote])\n",
    "    dense = Dense(8, activation='relu')(merge)\n",
    "    dense = Dropout(0.5)(dense)\n",
    "#    dense = Dense(4, activation='relu')(dense)\n",
    "#    dense = Dropout(0.5)(dense)\n",
    "    output = Dense(1, activation='sigmoid')(dense)\n",
    "\n",
    "    # Compile model\n",
    "    model = Model(inputs=inp, outputs=output)\n",
    "    model.compile(optimizer='adam', loss='binary_crossentropy', metrics=['accuracy'])\n",
    "    return model"
   ]
  },
  {
   "cell_type": "code",
   "execution_count": 8,
   "metadata": {},
   "outputs": [],
   "source": [
    "from sklearn.model_selection import StratifiedKFold\n",
    "\n",
    "train_acc, test_acc = [], []\n",
    "skf = StratifiedKFold(n_splits=5)\n",
    "for train_idx, test_idx in skf.split(X, y):\n",
    "    model = create_model(X.shape[1]) # Weights are re-initialized every iteration\n",
    "    model.fit(X[train_idx], y[train_idx], epochs=250, verbose=0)\n",
    "    train_score = model.evaluate(X[train_idx], y[train_idx], verbose=0)\n",
    "    test_score = model.evaluate(X[test_idx], y[test_idx], verbose=0)\n",
    "\n",
    "    train_acc.append(train_score[1])\n",
    "    test_acc.append(test_score[1])"
   ]
  },
  {
   "cell_type": "code",
   "execution_count": 9,
   "metadata": {},
   "outputs": [
    {
     "name": "stdout",
     "output_type": "stream",
     "text": [
      "TRAIN accuracy: 0.8797619047619047\n",
      "\t [0.8898809523809523, 0.8690476190476191, 0.8839285714285714, 0.8571428571428571, 0.8988095238095238]\n",
      "TEST accuracy: 0.8404761859348842\n",
      "\t [0.8333333304950169, 0.8690476133709862, 0.8333333276567005, 0.8809523752757481, 0.7857142828759693]\n"
     ]
    }
   ],
   "source": [
    "print('TRAIN accuracy:', sum(train_acc) / len(train_acc))\n",
    "print('\\t', train_acc)\n",
    "print('TEST accuracy:', sum(test_acc) / len(test_acc))\n",
    "print('\\t', test_acc)"
   ]
  },
  {
   "cell_type": "code",
   "execution_count": null,
   "metadata": {},
   "outputs": [],
   "source": []
  }
 ],
 "metadata": {
  "kernelspec": {
   "display_name": "Python 3",
   "language": "python",
   "name": "python3"
  },
  "language_info": {
   "codemirror_mode": {
    "name": "ipython",
    "version": 3
   },
   "file_extension": ".py",
   "mimetype": "text/x-python",
   "name": "python",
   "nbconvert_exporter": "python",
   "pygments_lexer": "ipython3",
   "version": "3.5.6"
  }
 },
 "nbformat": 4,
 "nbformat_minor": 2
}
