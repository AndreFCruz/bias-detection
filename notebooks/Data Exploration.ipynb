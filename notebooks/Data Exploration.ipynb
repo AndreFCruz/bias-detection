{
 "cells": [
  {
   "cell_type": "code",
   "execution_count": 1,
   "metadata": {},
   "outputs": [],
   "source": [
    "INPUT_DATASET_DIR = '../HyperpartisanNewsCorpora/pan19-hyperpartisan-news-detection-by-article-training-dataset-2018-11-22/'\n",
    "GROUND_TRUTH_DIR  = '../HyperpartisanNewsCorpora/pan19-hyperpartisan-news-detection-by-article-training-dataset-2018-11-22/ground-truth/'"
   ]
  },
  {
   "cell_type": "code",
   "execution_count": 2,
   "metadata": {},
   "outputs": [],
   "source": [
    "import os, sys\n",
    "import xml.sax"
   ]
  },
  {
   "cell_type": "code",
   "execution_count": 3,
   "metadata": {},
   "outputs": [
    {
     "data": {
      "text/plain": [
       "'\\nclass NewsArticle:\\n    def __init__(self, rootNode):\\n        self.root = rootNode\\n        self.text = lxml.etree.tostring(rootNode, method=\"text\", encoding=\"unicode\")\\n        \\n        self.hyperpartisan = None\\n        self.bias = None\\n    \\n    def get_id(self):\\n        return self.root.get(\\'id\\')\\n    \\n    def get_title(self):\\n        return self.root.get(\\'title\\')\\n    \\n    def get_text(self):\\n        return self.text\\n    \\n    def get_text_cleaned(self):\\n        return re.sub(\\'[^A-Za-z ]\\', \\'\\', self.text)\\n    \\n    def set_ground_truth(self, hyperpartisan, bias):\\n        self.hyperpartisan = hyperpartisan\\n        self.bias = bias\\n'"
      ]
     },
     "execution_count": 3,
     "metadata": {},
     "output_type": "execute_result"
    }
   ],
   "source": [
    "## SAX parser for Hyperpartisan News XML\n",
    "import lxml.sax, lxml.etree\n",
    "import re\n",
    "\n",
    "class HyperpartisanNewsExtractor(xml.sax.ContentHandler):\n",
    "    \"\"\"\n",
    "    Parsing xml units with xml.sax + lxml.sax.ElementTreeContentHandler.\n",
    "    Parser used in ../scripts/semeval-pan-2019-tf-extractor.py\n",
    "    \"\"\"\n",
    "    \n",
    "    def __init__(self):\n",
    "        super().__init__()\n",
    "        self.articles = list()\n",
    "        self.lxmlhandler = None\n",
    "\n",
    "    def startElement(self, name, attrs):\n",
    "        if name != 'articles':\n",
    "            if name == 'article':\n",
    "                self.lxmlhandler = lxml.sax.ElementTreeContentHandler()\n",
    "            self.lxmlhandler.startElement(name, attrs)\n",
    "\n",
    "    def characters(self, data):\n",
    "        if self.lxmlhandler is not None:\n",
    "            self.lxmlhandler.characters(data)\n",
    "\n",
    "    def endElement(self, name):\n",
    "        if self.lxmlhandler is not None:\n",
    "            self.lxmlhandler.endElement(name)\n",
    "            if name == 'article':\n",
    "                # pass to handleNewsArticle function\n",
    "                self.articles.append(NewsArticle(self.lxmlhandler.etree.getroot()))\n",
    "                self.lxmlhandler = None\n",
    "                \n",
    "'''\n",
    "class NewsArticle:\n",
    "    def __init__(self, rootNode):\n",
    "        self.root = rootNode\n",
    "        self.text = lxml.etree.tostring(rootNode, method=\"text\", encoding=\"unicode\")\n",
    "        \n",
    "        self.hyperpartisan = None\n",
    "        self.bias = None\n",
    "    \n",
    "    def get_id(self):\n",
    "        return self.root.get('id')\n",
    "    \n",
    "    def get_title(self):\n",
    "        return self.root.get('title')\n",
    "    \n",
    "    def get_text(self):\n",
    "        return self.text\n",
    "    \n",
    "    def get_text_cleaned(self):\n",
    "        return re.sub('[^A-Za-z ]', '', self.text)\n",
    "    \n",
    "    def set_ground_truth(self, hyperpartisan, bias):\n",
    "        self.hyperpartisan = hyperpartisan\n",
    "        self.bias = bias\n",
    "'''"
   ]
  },
  {
   "cell_type": "code",
   "execution_count": 4,
   "metadata": {},
   "outputs": [],
   "source": [
    "class NewsArticle:\n",
    "    \"\"\"\n",
    "    Class representing a single News article from the Hyperpartisan News Corpora.\n",
    "    \"\"\"\n",
    "\n",
    "    # Pattern for replacing non-breaking spaces\n",
    "    txt_tospace1 = re.compile(r'&#160;')\n",
    "\n",
    "    # Pattern for replacing numbers\n",
    "    number_pattern = re.compile(r'([\\d]+[\\.,]?[\\d]*)')\n",
    "\n",
    "    # Token for representing numbers\n",
    "    NUMBER_TOKEN = '<num>'\n",
    "\n",
    "    def __init__(self, rootNode):\n",
    "        self.root = rootNode\n",
    "        self.text = ' '.join([lxml.etree.tostring(el, method='text', encoding='unicode', with_tail=False).strip() \\\n",
    "                              for el in self.root.getiterator(tag='p')])\n",
    "\n",
    "        self.hyperpartisan = None\n",
    "        self.bias = None\n",
    "    \n",
    "    def get_id(self):\n",
    "        return self.root.get('id')\n",
    "    \n",
    "    def get_title(self):\n",
    "        return self.clean_text(self.root.get('title'))\n",
    "    \n",
    "    def get_text(self):\n",
    "        return self.clean_text(self.text)\n",
    "\n",
    "    def get_text_preprocessed(self):\n",
    "        return self.preprocess_text(self.get_text())\n",
    "\n",
    "    def get_text_alpha(self):\n",
    "        return re.sub('[^A-Za-z ]', '', self.text)\n",
    "    \n",
    "    def set_ground_truth(self, hyperpartisan, bias):\n",
    "        self.hyperpartisan = hyperpartisan\n",
    "        self.bias = bias\n",
    "\n",
    "    def get_hyperpartisan(self) -> str:\n",
    "        ## May be None if not yet paired with ground-truth\n",
    "        return self.hyperpartisan\n",
    "\n",
    "    def is_hyperpartisan(self) -> bool:\n",
    "        return self.get_hyperpartisan() == 'true'\n",
    "\n",
    "    def get_bias(self) -> str:\n",
    "        ## May be None if dataset was labeled by article (not by publisher)\n",
    "        return self.bias\n",
    "\n",
    "    def get_links(self):\n",
    "        return self.root.iterdescendants(tag='a')\n",
    "\n",
    "\n",
    "    @classmethod\n",
    "    def clean_text(cls, text):\n",
    "        \"\"\"Clean the text extracted from XML.\"\"\"\n",
    "        text = text.replace(\"&amp;\", \"&\")\n",
    "        text = text.replace(\"&gt;\", \">\")\n",
    "        text = text.replace(\"&lt;\", \"<\")\n",
    "        text = text.replace(\"<p>\", \" \")\n",
    "        text = text.replace(\"</p>\", \" \")\n",
    "        text = text.replace(\" _\", \" \")\n",
    "        text = text.replace(\"–\", \"-\")\n",
    "        text = text.replace(\"”\", \"\\\"\")\n",
    "        text = text.replace(\"“\", \"\\\"\")\n",
    "        text = text.replace(\"’\", \"'\")\n",
    "        text = text.replace(\"\\t\", \" \")\n",
    "        text = text.replace(\"⚪\", \" \")\n",
    "        text = text.replace(\"  \", \" \")\n",
    "\n",
    "        text = cls.txt_tospace1.sub(' ', text)\n",
    "        return text\n",
    "\n",
    "    @classmethod\n",
    "    def preprocess_text(cls, text):\n",
    "        ## Substitute numbers with a special token\n",
    "        text = cls.number_pattern.sub(cls.NUMBER_TOKEN, text)\n",
    "        return text"
   ]
  },
  {
   "cell_type": "code",
   "execution_count": 5,
   "metadata": {},
   "outputs": [],
   "source": [
    "news_content_handler = HyperpartisanNewsExtractor()\n",
    "\n",
    "for file in os.listdir(INPUT_DATASET_DIR):\n",
    "    if file.endswith('xml'):\n",
    "        with open(INPUT_DATASET_DIR + '/' + file, 'r', encoding='utf-8') as inputfile:\n",
    "            parser = xml.sax.make_parser()\n",
    "            parser.setContentHandler(news_content_handler)\n",
    "            source = xml.sax.xmlreader.InputSource()\n",
    "            source.setByteStream(inputfile)\n",
    "            source.setEncoding('utf-8')\n",
    "            parser.parse(source)\n",
    "            \n",
    "articles = news_content_handler.articles"
   ]
  },
  {
   "cell_type": "code",
   "execution_count": 6,
   "metadata": {},
   "outputs": [],
   "source": [
    "## SAX parser for Ground Truth XML\n",
    "class HyperpartisanNewsGroundTruthExtractor(xml.sax.ContentHandler):\n",
    "    \"\"\"\n",
    "    SAX parser for ground truth XML.\n",
    "    \"\"\"\n",
    "    def __init__(self):\n",
    "        super().__init__()\n",
    "        self.hyperpartisan = dict()\n",
    "        #self.bias = dict()\n",
    "\n",
    "    def startElement(self, name, attrs):\n",
    "        if name == 'article':\n",
    "            article_id = attrs.getValue('id')\n",
    "            hyperpartisan = attrs.getValue('hyperpartisan')\n",
    "            self.hyperpartisan[article_id] = hyperpartisan\n",
    "#            bias = attrs.getValue('bias')\n",
    "#            self.bias[article_id] = bias"
   ]
  },
  {
   "cell_type": "code",
   "execution_count": 7,
   "metadata": {},
   "outputs": [],
   "source": [
    "truth_content_handler = HyperpartisanNewsGroundTruthExtractor()\n",
    "\n",
    "for file in os.listdir(GROUND_TRUTH_DIR):\n",
    "    if file.endswith('xml'):\n",
    "        with open(GROUND_TRUTH_DIR + '/' + file, 'r', encoding='utf-8') as inputfile:\n",
    "            parser = xml.sax.make_parser()\n",
    "            parser.setContentHandler(truth_content_handler)\n",
    "            source = xml.sax.xmlreader.InputSource()\n",
    "            source.setByteStream(inputfile)\n",
    "            source.setEncoding('utf-8')\n",
    "            parser.parse(source)"
   ]
  },
  {
   "cell_type": "code",
   "execution_count": 8,
   "metadata": {},
   "outputs": [],
   "source": [
    "for i in range(len(articles)):\n",
    "    article_id = articles[i].get_id()\n",
    "    articles[i].set_ground_truth(\n",
    "        truth_content_handler.hyperpartisan[article_id],\n",
    "        None # truth_content_handler.bias[article_id]\n",
    "    )"
   ]
  },
  {
   "cell_type": "code",
   "execution_count": 9,
   "metadata": {},
   "outputs": [],
   "source": [
    "## Extract sentence length distribution, number of links per article distribution, term frequency\n",
    "### All plots Hyperpartisan VS Non-Hyperpartisan [VS Left VS Right]\n",
    "hyperpartisan = [a for a in articles if a.hyperpartisan == 'true']\n",
    "mainstream = [a for a in articles if a.hyperpartisan == 'false']"
   ]
  },
  {
   "cell_type": "code",
   "execution_count": 10,
   "metadata": {},
   "outputs": [
    {
     "name": "stdout",
     "output_type": "stream",
     "text": [
      "Better speed can be achieved with apex installed from https://www.github.com/nvidia/apex.\n"
     ]
    }
   ],
   "source": [
    "import spacy\n",
    "import nltk\n",
    "from flair.data import Sentence\n",
    "from nltk.tokenize import sent_tokenize\n",
    "\n",
    "nlp = spacy.load('en_core_web_sm', disable=['ner', 'parser', 'tagger'])\n",
    "nlp.add_pipe(nlp.create_pipe('sentencizer'))"
   ]
  },
  {
   "cell_type": "code",
   "execution_count": 11,
   "metadata": {},
   "outputs": [],
   "source": [
    "## Process articles\n",
    "articles_processed = [nlp(a.get_text()) for a in articles]\n",
    "titles_processed = [nlp(a.get_title()) for a in articles]"
   ]
  },
  {
   "cell_type": "code",
   "execution_count": 12,
   "metadata": {},
   "outputs": [],
   "source": [
    "## Number of sentences per article (+1 because of the title)\n",
    "num_sents_per_article = [len(list(a.sents)) + 1 for a in articles_processed]"
   ]
  },
  {
   "cell_type": "code",
   "execution_count": 13,
   "metadata": {},
   "outputs": [],
   "source": [
    "## Number of tokens per sentence\n",
    "num_tokens_per_sent_spacy = [len(s) for a in articles_processed for s in a.sents]\n",
    "num_tokens_per_sent_flair = [len(Sentence(s.text)) for a in articles_processed for s in a.sents]\n",
    "\n",
    "title_lengths_spacy = [len(t) for t in titles_processed]\n",
    "title_lengths_flair = [len(Sentence(a.get_title())) for a in articles]\n",
    "\n",
    "## Add length of all titles\n",
    "num_tokens_per_sent_spacy += title_lengths_spacy\n",
    "num_tokens_per_sent_flair += title_lengths_flair"
   ]
  },
  {
   "cell_type": "code",
   "execution_count": 14,
   "metadata": {},
   "outputs": [],
   "source": [
    "## Number of tokens per article\n",
    "num_tokens_per_article_spacy = [len(a) for a in articles_processed]\n",
    "num_tokens_per_article_flair = [sum(len(Sentence(s.text)) for s in a.sents) for a in articles_processed]\n",
    "\n",
    "## Add title length for each article\n",
    "num_tokens_per_article_spacy = [n + t_len for n, t_len in zip(num_tokens_per_article_spacy, title_lengths_spacy)]\n",
    "num_tokens_per_article_flair = [n + t_len for n, t_len in zip(num_tokens_per_article_flair, title_lengths_flair)]"
   ]
  },
  {
   "cell_type": "code",
   "execution_count": 15,
   "metadata": {},
   "outputs": [],
   "source": [
    "## Use Spacy or Flair for tokenization?\n",
    "#num_tokens_per_sent = num_tokens_per_sent_spacy\n",
    "num_tokens_per_sent = num_tokens_per_sent_flair\n",
    "\n",
    "#num_tokens_per_article = num_tokens_per_article_spacy\n",
    "num_tokens_per_article = num_tokens_per_article_flair"
   ]
  },
  {
   "cell_type": "code",
   "execution_count": 16,
   "metadata": {},
   "outputs": [
    {
     "data": {
      "image/png": "[encoded data removed]",
      "text/plain": [
       "<Figure size 432x288 with 1 Axes>"
      ]
     },
     "metadata": {
      "needs_background": "light"
     },
     "output_type": "display_data"
    }
   ],
   "source": [
    "%matplotlib inline\n",
    "import matplotlib\n",
    "import matplotlib.pyplot as plt\n",
    "import seaborn as sns\n",
    "\n",
    "## Distribution of article sentence-length\n",
    "plot = sns.distplot(num_sents_per_article, rug=True, axlabel='number of sentences')\n",
    "plt.xlim(-3, 200)\n",
    "plot.get_figure().savefig('hyperpartisan.article-sentence-length.png', dpi=200)"
   ]
  },
  {
   "cell_type": "code",
   "execution_count": 17,
   "metadata": {},
   "outputs": [
    {
     "name": "stdout",
     "output_type": "stream",
     "text": [
      "Percentage of cut articles: 12.713178% (cutoff at 50)\n",
      "Percentage of cut articles: 0.155039% (cutoff at 200)\n"
     ]
    }
   ],
   "source": [
    "## Percentage of cropped articles\n",
    "import numpy as np\n",
    "art_sent_len_cutoff = 50\n",
    "num_cutoff = np.count_nonzero(np.array(num_sents_per_article) > art_sent_len_cutoff)\n",
    "print('Percentage of cut articles: {:%} (cutoff at {})'.format(num_cutoff / len(num_sents_per_article), art_sent_len_cutoff))\n",
    "\n",
    "art_sent_len_cutoff = 200\n",
    "num_cutoff = np.count_nonzero(np.array(num_sents_per_article) > art_sent_len_cutoff)\n",
    "print('Percentage of cut articles: {:%} (cutoff at {})'.format(num_cutoff / len(num_sents_per_article), art_sent_len_cutoff))"
   ]
  },
  {
   "cell_type": "code",
   "execution_count": 18,
   "metadata": {},
   "outputs": [
    {
     "data": {
      "image/png": "[encoded data removed]",
      "text/plain": [
       "<Figure size 432x288 with 1 Axes>"
      ]
     },
     "metadata": {
      "needs_background": "light"
     },
     "output_type": "display_data"
    }
   ],
   "source": [
    "## Distribution of sentence token-length\n",
    "plot = sns.distplot(num_tokens_per_sent, rug=True, axlabel='number of tokens', bins=100)\n",
    "plt.xlim(-2, 180)\n",
    "plot.get_figure().savefig('hyperpartisan.sentence-token-length.png', dpi=200)"
   ]
  },
  {
   "cell_type": "code",
   "execution_count": 19,
   "metadata": {},
   "outputs": [
    {
     "name": "stdout",
     "output_type": "stream",
     "text": [
      "Percentage of cut articles: 2.308851% (cutoff at 50)\n",
      "Percentage of cut articles: 0.033462% (cutoff at 200)\n"
     ]
    }
   ],
   "source": [
    "## Percentage of cropped sentences\n",
    "import numpy as np\n",
    "sent_token_len_cutoff = 50\n",
    "num_cutoff = np.count_nonzero(np.array(num_tokens_per_sent) > sent_token_len_cutoff)\n",
    "print('Percentage of cut articles: {:%} (cutoff at {})'.format(num_cutoff / len(num_tokens_per_sent), sent_token_len_cutoff))\n",
    "\n",
    "sent_token_len_cutoff = 200\n",
    "num_cutoff = np.count_nonzero(np.array(num_tokens_per_sent) > sent_token_len_cutoff)\n",
    "print('Percentage of cut articles: {:%} (cutoff at {})'.format(num_cutoff / len(num_tokens_per_sent), sent_token_len_cutoff))"
   ]
  },
  {
   "cell_type": "code",
   "execution_count": 20,
   "metadata": {},
   "outputs": [
    {
     "data": {
      "image/png": "[encoded data removed]",
      "text/plain": [
       "<Figure size 432x288 with 1 Axes>"
      ]
     },
     "metadata": {
      "needs_background": "light"
     },
     "output_type": "display_data"
    }
   ],
   "source": [
    "## Distribution of article token-length\n",
    "plot = sns.distplot(num_tokens_per_article, rug=True, axlabel='number of tokens')\n",
    "plt.xlim(-100, 4000)\n",
    "plot.get_figure().savefig('hyperpartisan.article-token-length.png', dpi=200)"
   ]
  },
  {
   "cell_type": "code",
   "execution_count": 21,
   "metadata": {},
   "outputs": [
    {
     "name": "stdout",
     "output_type": "stream",
     "text": [
      "Percentage of cut articles: 38.914729% (cutoff at 500)\n"
     ]
    }
   ],
   "source": [
    "## Percentage of cropped articles\n",
    "import numpy as np\n",
    "art_token_len_cutoff = 500\n",
    "num_cutoff = np.count_nonzero(np.array(num_tokens_per_article) > art_token_len_cutoff)\n",
    "print('Percentage of cut articles: {:%} (cutoff at {})'.format(num_cutoff / len(num_tokens_per_article), art_token_len_cutoff))"
   ]
  },
  {
   "cell_type": "code",
   "execution_count": null,
   "metadata": {},
   "outputs": [],
   "source": [
    "\n",
    "### ## Old code below ## ###\n"
   ]
  },
  {
   "cell_type": "code",
   "execution_count": 9,
   "metadata": {
    "scrolled": true
   },
   "outputs": [],
   "source": [
    "%matplotlib inline\n",
    "import matplotlib\n",
    "import matplotlib.pyplot as plt\n",
    "\n",
    "hyperpartisan_vals = [len(sent_tokenize(a.get_text())) for a in hyperpartisan]\n",
    "#print('Percentage HYPERPARTISAN articles trimmed: {:.2%}'.format((len(hyperpartisan) - len(hyperpartisan_vals)) / len(hyperpartisan)))\n",
    "\n",
    "mainstream_vals = [len(sent_tokenize(a.get_text())) for a in mainstream]\n",
    "#print('Percentage MAINSTREAM articles trimmed: {:.2%}'.format((len(mainstream) - len(mainstream_vals)) / len(mainstream)))"
   ]
  },
  {
   "cell_type": "code",
   "execution_count": 10,
   "metadata": {},
   "outputs": [
    {
     "data": {
      "image/png": "[encoded data removed]",
      "text/plain": [
       "<Figure size 1080x576 with 1 Axes>"
      ]
     },
     "metadata": {
      "needs_background": "light"
     },
     "output_type": "display_data"
    },
    {
     "data": {
      "text/plain": [
       "<Figure size 432x288 with 0 Axes>"
      ]
     },
     "metadata": {},
     "output_type": "display_data"
    }
   ],
   "source": [
    "plt.hist([hyperpartisan_vals, mainstream_vals], bins=20, label=['hyperpartisan', 'mainstream'])\n",
    "plt.legend(loc='upper right', prop={'size': 15})\n",
    "plt.title('Number of SENTENCES per article')\n",
    "\n",
    "fig = plt.gcf()\n",
    "fig.set_size_inches(15, 8)\n",
    "\n",
    "plt.xlim(0, 150)\n",
    "plt.show()\n",
    "plt.clf()"
   ]
  },
  {
   "cell_type": "code",
   "execution_count": 11,
   "metadata": {},
   "outputs": [
    {
     "name": "stdout",
     "output_type": "stream",
     "text": [
      "Hyperpartisan Avg num_sents: 37.49579831932773\n",
      "Mainstream Avg num_sents: 20.412776412776413\n"
     ]
    }
   ],
   "source": [
    "print('Hyperpartisan Avg num_sents:', sum(hyperpartisan_vals) / len(hyperpartisan_vals))\n",
    "print('Mainstream Avg num_sents:', sum(mainstream_vals) / len(mainstream_vals))"
   ]
  },
  {
   "cell_type": "code",
   "execution_count": 12,
   "metadata": {},
   "outputs": [],
   "source": [
    "%matplotlib inline\n",
    "from nltk.tokenize import word_tokenize\n",
    "\n",
    "hyperpartisan_num_words = [len(word_tokenize(a.get_text())) for a in hyperpartisan]\n",
    "#print('Percentage HYPERPARTISAN articles trimmed: {:.2%}'.format((len(hyperpartisan) - len(hyperpartisan_vals)) / len(hyperpartisan)))\n",
    "\n",
    "mainstream_num_words = [len(word_tokenize(a.get_text())) for a in mainstream]\n",
    "#print('Percentage MAINSTREAM articles trimmed: {:.2%}'.format((len(mainstream) - len(mainstream_vals)) / len(mainstream)))"
   ]
  },
  {
   "cell_type": "code",
   "execution_count": 13,
   "metadata": {
    "scrolled": true
   },
   "outputs": [
    {
     "data": {
      "image/png": "[encoded data removed]",
      "text/plain": [
       "<Figure size 1080x576 with 1 Axes>"
      ]
     },
     "metadata": {
      "needs_background": "light"
     },
     "output_type": "display_data"
    },
    {
     "data": {
      "text/plain": [
       "<Figure size 432x288 with 0 Axes>"
      ]
     },
     "metadata": {},
     "output_type": "display_data"
    }
   ],
   "source": [
    "plt.hist([hyperpartisan_num_words, mainstream_num_words], bins=40, label=['hyperpartisan', 'mainstream'])\n",
    "plt.legend(loc='upper right', prop={'size': 15})\n",
    "plt.title('Number of WORDS per article')\n",
    "\n",
    "fig = plt.gcf()\n",
    "fig.set_size_inches(15, 8)\n",
    "\n",
    "plt.xlim(0, 3000)\n",
    "plt.show()\n",
    "plt.clf()"
   ]
  },
  {
   "cell_type": "code",
   "execution_count": 14,
   "metadata": {},
   "outputs": [
    {
     "name": "stdout",
     "output_type": "stream",
     "text": [
      "Hyperpartisan Avg number of words: 929.436974789916\n",
      "Mainstream Avg number of words: 505.9312039312039\n"
     ]
    }
   ],
   "source": [
    "print('Hyperpartisan Avg number of words:', sum(hyperpartisan_num_words) / len(hyperpartisan_num_words))\n",
    "print('Mainstream Avg number of words:', sum(mainstream_num_words) / len(mainstream_num_words))"
   ]
  },
  {
   "cell_type": "code",
   "execution_count": 15,
   "metadata": {},
   "outputs": [],
   "source": [
    "hyperpartisan_num_links = [sum(map(lambda e: 1 if e.tag == 'a' else 0, list(a.root.iter()))) for a in hyperpartisan]\n",
    "mainstream_num_links = [sum(map(lambda e: 1 if e.tag == 'a' else 0, list(a.root.iter()))) for a in mainstream]"
   ]
  },
  {
   "cell_type": "code",
   "execution_count": 16,
   "metadata": {},
   "outputs": [
    {
     "data": {
      "image/png": "[encoded data removed]",
      "text/plain": [
       "<Figure size 1080x576 with 1 Axes>"
      ]
     },
     "metadata": {
      "needs_background": "light"
     },
     "output_type": "display_data"
    }
   ],
   "source": [
    "plt.hist([hyperpartisan_num_links, mainstream_num_links], bins=20, label=['hyperpartisan', 'mainstream'], range=(0, 50), align='mid')\n",
    "plt.legend(loc='upper right', prop={'size': 15})\n",
    "plt.title('Number of LINKS per article')\n",
    "\n",
    "fig = plt.gcf()\n",
    "fig.set_size_inches(15, 8)\n",
    "\n",
    "plt.show()"
   ]
  },
  {
   "cell_type": "code",
   "execution_count": 17,
   "metadata": {},
   "outputs": [],
   "source": [
    "hyperpartisan_tf = dict()\n",
    "for a in hyperpartisan:\n",
    "    for word in a.get_text_cleaned().split(' '):\n",
    "        if word in hyperpartisan_tf:\n",
    "            hyperpartisan_tf[word] += 1\n",
    "        else:\n",
    "            hyperpartisan_tf[word] = 1"
   ]
  },
  {
   "cell_type": "code",
   "execution_count": 18,
   "metadata": {},
   "outputs": [],
   "source": [
    "mainstream_tf = dict()\n",
    "for a in mainstream:\n",
    "    for word in a.get_text_cleaned().split(' '):\n",
    "        if word in mainstream_tf:\n",
    "            mainstream_tf[word] += 1\n",
    "        else:\n",
    "            mainstream_tf[word] = 1"
   ]
  },
  {
   "cell_type": "code",
   "execution_count": 19,
   "metadata": {},
   "outputs": [],
   "source": [
    "import operator\n",
    "sorted_hyp_tf = sorted(hyperpartisan_tf.items(), key=operator.itemgetter(1), reverse=True)\n",
    "sorted_main_tf = sorted(mainstream_tf.items(), key=operator.itemgetter(1), reverse=True)"
   ]
  },
  {
   "cell_type": "code",
   "execution_count": 20,
   "metadata": {},
   "outputs": [],
   "source": [
    "sorted_hyp_tf = sorted_hyp_tf[:1000]\n",
    "sorted_main_tf = sorted_main_tf[:1000]"
   ]
  },
  {
   "cell_type": "code",
   "execution_count": 21,
   "metadata": {},
   "outputs": [],
   "source": [
    "hyp_tf_cropped = {e[0]: e[1] for e in sorted_hyp_tf}\n",
    "main_tf_cropped = {e[0]: e[1] for e in sorted_main_tf}"
   ]
  },
  {
   "cell_type": "code",
   "execution_count": 22,
   "metadata": {},
   "outputs": [],
   "source": [
    "for w in set(hyp_tf_cropped.keys()):\n",
    "    if w in main_tf_cropped:\n",
    "        del main_tf_cropped[w]"
   ]
  },
  {
   "cell_type": "code",
   "execution_count": 23,
   "metadata": {},
   "outputs": [],
   "source": [
    "for w in set(main_tf_cropped.keys()):\n",
    "    if w in hyp_tf_cropped:\n",
    "        print('deleting '+ w)\n",
    "        del hyp_tf_cropped[w]"
   ]
  },
  {
   "cell_type": "code",
   "execution_count": null,
   "metadata": {},
   "outputs": [],
   "source": []
  }
 ],
 "metadata": {
  "kernelspec": {
   "display_name": "Python 3",
   "language": "python",
   "name": "python3"
  },
  "language_info": {
   "codemirror_mode": {
    "name": "ipython",
    "version": 3
   },
   "file_extension": ".py",
   "mimetype": "text/x-python",
   "name": "python",
   "nbconvert_exporter": "python",
   "pygments_lexer": "ipython3",
   "version": "3.7.3"
  }
 },
 "nbformat": 4,
 "nbformat_minor": 2
}
