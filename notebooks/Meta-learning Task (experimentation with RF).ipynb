{
 "cells": [
  {
   "cell_type": "code",
   "execution_count": 1,
   "metadata": {},
   "outputs": [],
   "source": [
    "\"\"\"\n",
    "Notebook for the Meta-Learning sub-task of the SemEval2019 Task on \"Hyperpartisan News Detection\".\n",
    "\"\"\"\n",
    "TRAIN_DATASET_PATH = '../meta-learning-task/pan19-hyperpartisan-news-detection-by-article-meta-training-dataset-2019-02-04/'\n",
    "GROUND_TRUTH_PATH  = '../meta-learning-task/pan19-hyperpartisan-news-detection-by-article-meta-training-dataset-2019-02-04/ground-truth/'"
   ]
  },
  {
   "cell_type": "code",
   "execution_count": 2,
   "metadata": {},
   "outputs": [],
   "source": [
    "import os\n",
    "import csv\n",
    "\n",
    "data = dict()\n",
    "\n",
    "for file in os.listdir(TRAIN_DATASET_PATH):\n",
    "    if file.endswith('.txt'):\n",
    "        with open(TRAIN_DATASET_PATH + file) as in_file:\n",
    "            reader = csv.reader(in_file, delimiter=' ') ## csv with space delimiters\n",
    "            data = {row[0]: [(w == 'true') for w in row[1:]] for row in reader}"
   ]
  },
  {
   "cell_type": "code",
   "execution_count": 3,
   "metadata": {},
   "outputs": [],
   "source": [
    "truth = dict()\n",
    "\n",
    "for file in os.listdir(GROUND_TRUTH_PATH):\n",
    "    if file.endswith('.txt'):\n",
    "        with open(GROUND_TRUTH_PATH + file) as in_file:\n",
    "            reader = csv.reader(in_file, delimiter=' ') ## csv with space delimiters\n",
    "            truth = {row[0]: (row[1] == 'true') for row in reader}\n",
    "            \n",
    "assert len(data) == len(truth)"
   ]
  },
  {
   "cell_type": "code",
   "execution_count": 4,
   "metadata": {},
   "outputs": [
    {
     "name": "stdout",
     "output_type": "stream",
     "text": [
      "X.shape: (420, 42) ; X_vote.shape: (420, 43)\n"
     ]
    }
   ],
   "source": [
    "import numpy as np\n",
    "\n",
    "X = np.array([data[key] for key in sorted(data.keys())], dtype=np.bool)\n",
    "y = np.array([truth[key] for key in sorted(data.keys())], dtype=np.bool)\n",
    "\n",
    "## Add column with majority vote\n",
    "X_vote = np.average(X, axis=1)\n",
    "X_vote = np.reshape(X_vote, X_vote.shape + (1,))\n",
    "X_vote = np.concatenate((X, X_vote), axis=1)\n",
    "\n",
    "print('X.shape: {} ; X_vote.shape: {}'.format(X.shape, X_vote.shape))\n",
    "\n",
    "## Train/Test Split\n",
    "from sklearn.model_selection import train_test_split\n",
    "X_train, X_test, y_train, y_test = train_test_split(X_vote, y, test_size=0.2, stratify=y)"
   ]
  },
  {
   "cell_type": "code",
   "execution_count": 5,
   "metadata": {
    "scrolled": true
   },
   "outputs": [
    {
     "name": "stdout",
     "output_type": "stream",
     "text": [
      "\n",
      "** Majority Vote Performance **\n",
      "\n",
      "Accuracy on whole dataset:\t 0.8214285714285714\n",
      "              precision    recall  f1-score   support\n",
      "\n",
      "       False       0.83      0.81      0.82       210\n",
      "        True       0.82      0.83      0.82       210\n",
      "\n",
      "   micro avg       0.82      0.82      0.82       420\n",
      "   macro avg       0.82      0.82      0.82       420\n",
      "weighted avg       0.82      0.82      0.82       420\n",
      "\n",
      "Accuracy on test dataset:\t 0.8214285714285714\n",
      "Accuracy on train dataset:\t 0.8214285714285714\n"
     ]
    }
   ],
   "source": [
    "from sklearn.metrics import classification_report, accuracy_score\n",
    "\n",
    "## Same function as baseline provided by SemEval\n",
    "#majority_vote = lambda x: sum(x) >= ((len(x) - 1) / 2)\n",
    "def majority_vote(x):\n",
    "    return sum(x) >= ((len(x) - 1) / 2) if len(x) > 1 else x[0]\n",
    "\n",
    "y_pred = [majority_vote(x) for x in X]\n",
    "y_test_pred = [majority_vote(x) for x in X_test]\n",
    "y_train_pred = [majority_vote(x) for x in X_train]\n",
    "\n",
    "print('\\n** Majority Vote Performance **\\n')\n",
    "print('Accuracy on whole dataset:\\t', accuracy_score(y, y_pred))\n",
    "print(classification_report(y, y_pred))\n",
    "\n",
    "print('Accuracy on test dataset:\\t', accuracy_score(y_test, y_test_pred))\n",
    "#print(classification_report(y_test, y_test_pred))\n",
    "\n",
    "print('Accuracy on train dataset:\\t', accuracy_score(y_train, y_train_pred))\n",
    "#print(classification_report(y_train, y_train_pred))"
   ]
  },
  {
   "cell_type": "code",
   "execution_count": 6,
   "metadata": {},
   "outputs": [
    {
     "name": "stdout",
     "output_type": "stream",
     "text": [
      "CV Test score: 0.8547619047619047\n",
      "CV Test scores: [0.92857143 0.73809524 0.9047619  0.83333333 0.80952381 0.9047619\n",
      " 0.88095238 0.95238095 0.80952381 0.78571429]\n",
      "CV Train score: 0.8973544973544975\n",
      "CV Train scores: [0.88888889 0.9021164  0.8968254  0.8994709  0.9047619  0.89153439\n",
      " 0.8968254  0.8968254  0.8994709  0.8968254 ]\n"
     ]
    }
   ],
   "source": [
    "from sklearn.ensemble import RandomForestClassifier\n",
    "from sklearn.model_selection import cross_validate\n",
    "\n",
    "rf_clf = RandomForestClassifier(\n",
    "    n_estimators=100, min_samples_leaf=3, random_state=42 ## min_samples_leaf=3 ?\n",
    ")\n",
    "\n",
    "## Train and cross-validate with 5 folds\n",
    "cv = cross_validate(rf_clf, X_vote, y, cv=10, return_train_score=True, scoring='accuracy')\n",
    "rf_cv_acc = sum(cv['test_score']) / len(cv['test_score'])\n",
    "\n",
    "print('CV Test score:', rf_cv_acc)\n",
    "print('CV Test scores:', cv['test_score'])\n",
    "\n",
    "print('CV Train score:', sum(cv['train_score']) / len(cv['train_score']))\n",
    "print('CV Train scores:', cv['train_score'])"
   ]
  },
  {
   "cell_type": "code",
   "execution_count": 7,
   "metadata": {},
   "outputs": [
    {
     "name": "stdout",
     "output_type": "stream",
     "text": [
      "Accuracy score: 0.8690476190476191\n"
     ]
    },
    {
     "data": {
      "text/plain": [
       "array([0.00755584, 0.00837734, 0.00380734, 0.0283782 , 0.02879581,\n",
       "       0.02342993, 0.01311767, 0.00673959, 0.02087136, 0.01571301,\n",
       "       0.11383597, 0.0087804 , 0.00815595, 0.069083  , 0.06569422,\n",
       "       0.00756008, 0.01760769, 0.02977459, 0.00447212, 0.00794147,\n",
       "       0.02411894, 0.0457155 , 0.0066209 , 0.01216098, 0.00469378,\n",
       "       0.00312457, 0.05913161, 0.00789109, 0.04907702, 0.01056021,\n",
       "       0.00781031, 0.0088287 , 0.00741255, 0.01437422, 0.0054552 ,\n",
       "       0.0074691 , 0.00811127, 0.00295052, 0.00358573, 0.00285878,\n",
       "       0.01101683, 0.04088729, 0.16645331])"
      ]
     },
     "execution_count": 7,
     "metadata": {},
     "output_type": "execute_result"
    }
   ],
   "source": [
    "rf_clf.fit(X_train, y_train)\n",
    "print('Accuracy score:', rf_clf.score(X_test, y_test))\n",
    "\n",
    "rf_clf.feature_importances_"
   ]
  },
  {
   "cell_type": "code",
   "execution_count": 8,
   "metadata": {},
   "outputs": [],
   "source": [
    "from sklearn import tree\n",
    "from graphviz import Source\n",
    "import random\n",
    "\n",
    "dt = random.choice(rf_clf.estimators_)\n",
    "graph = Source( tree.export_graphviz(dt, out_file=None) )\n",
    "\n",
    "## Save DT Render to file\n",
    "#graph.format = 'png'\n",
    "#graph.render('dt_render', view=True)\n",
    "\n",
    "#graph"
   ]
  },
  {
   "cell_type": "code",
   "execution_count": 9,
   "metadata": {},
   "outputs": [],
   "source": [
    "import pickle\n",
    "\n",
    "pickle.dump(rf_clf, open('../meta-learning-task/RF_meta-learning.pickle', 'wb'))"
   ]
  },
  {
   "cell_type": "code",
   "execution_count": 10,
   "metadata": {},
   "outputs": [
    {
     "name": "stdout",
     "output_type": "stream",
     "text": [
      " 0 - Acc: 0.545 - P: 0.535 - R: 0.535 - F1: 0.603\n",
      " 1 - Acc: 0.581 - P: 0.693 - R: 0.693 - F1: 0.409\n",
      " 2 - Acc: 0.614 - P: 0.568 - R: 0.568 - F1: 0.712\n",
      " 3 - Acc: 0.726 - P: 0.799 - R: 0.799 - F1: 0.688\n",
      " 4 - Acc: 0.745 - P: 0.719 - R: 0.719 - F1: 0.76\n",
      " 5 - Acc: 0.771 - P: 0.875 - R: 0.875 - F1: 0.735\n",
      " 6 - Acc: 0.702 - P: 0.754 - R: 0.754 - F1: 0.668\n",
      " 7 - Acc: 0.605 - P: 0.562 - R: 0.562 - F1: 0.706\n",
      " 8 - Acc: 0.748 - P: 0.838 - R: 0.838 - F1: 0.709\n",
      " 9 - Acc: 0.719 - P: 0.725 - R: 0.725 - F1: 0.715\n",
      "10 - Acc: 0.814 - P: 0.808 - R: 0.808 - F1: 0.816\n",
      "11 - Acc: 0.464 - P: 0.465 - R: 0.465 - F1: 0.468\n",
      "12 - Acc: 0.705 - P: 0.807 - R: 0.807 - F1: 0.646\n",
      "13 - Acc: 0.793 - P: 0.812 - R: 0.812 - F1: 0.786\n",
      "14 - Acc: 0.807 - P: 0.856 - R: 0.856 - F1: 0.793\n",
      "15 - Acc: 0.726 - P: 0.739 - R: 0.739 - F1: 0.719\n",
      "16 - Acc: 0.707 - P: 0.804 - R: 0.804 - F1: 0.652\n",
      "17 - Acc: 0.774 - P: 0.758 - R: 0.758 - F1: 0.781\n",
      "18 - Acc: 0.645 - P: 0.592 - R: 0.592 - F1: 0.725\n",
      "19 - Acc: 0.612 - P: 0.576 - R: 0.576 - F1: 0.686\n",
      "20 - Acc: 0.738 - P: 0.791 - R: 0.791 - F1: 0.712\n",
      "21 - Acc: 0.776 - P: 0.815 - R: 0.815 - F1: 0.761\n",
      "22 - Acc: 0.502 - P: 0.502 - R: 0.502 - F1: 0.599\n",
      "23 - Acc: 0.683 - P: 0.723 - R: 0.723 - F1: 0.653\n",
      "24 - Acc: 0.583 - P: 0.551 - R: 0.551 - F1: 0.685\n",
      "25 - Acc: 0.571 - P: 0.541 - R: 0.541 - F1: 0.689\n",
      "26 - Acc: 0.781 - P: 0.839 - R: 0.839 - F1: 0.76\n",
      "27 - Acc: 0.536 - P: 0.523 - R: 0.523 - F1: 0.641\n",
      "28 - Acc: 0.781 - P: 0.771 - R: 0.771 - F1: 0.785\n",
      "29 - Acc: 0.712 - P: 0.773 - R: 0.773 - F1: 0.676\n",
      "30 - Acc: 0.657 - P: 0.654 - R: 0.654 - F1: 0.66\n",
      "31 - Acc: 0.686 - P: 0.677 - R: 0.677 - F1: 0.693\n",
      "32 - Acc: 0.643 - P: 0.703 - R: 0.703 - F1: 0.581\n",
      "33 - Acc: 0.667 - P: 0.643 - R: 0.643 - F1: 0.692\n",
      "34 - Acc: 0.719 - P: 0.761 - R: 0.761 - F1: 0.694\n",
      "35 - Acc: 0.698 - P: 0.711 - R: 0.711 - F1: 0.688\n",
      "36 - Acc: 0.686 - P: 0.684 - R: 0.684 - F1: 0.687\n",
      "37 - Acc: 0.583 - P: 0.547 - R: 0.547 - F1: 0.699\n",
      "38 - Acc: 0.602 - P: 0.563 - R: 0.563 - F1: 0.698\n",
      "39 - Acc: 0.555 - P: 0.695 - R: 0.695 - F1: 0.305\n",
      "40 - Acc: 0.64 - P: 0.627 - R: 0.627 - F1: 0.659\n",
      "41 - Acc: 0.69 - P: 0.63 - R: 0.63 - F1: 0.749\n",
      "\n",
      "Mean accuracy: 0.6736961451247164\n"
     ]
    }
   ],
   "source": [
    "from sklearn.metrics import accuracy_score, recall_score, precision_score, f1_score\n",
    "## Each team's system is a column in X\n",
    "## Check which are best performing\n",
    "\n",
    "accs = list()\n",
    "for i in range(X.shape[1]):\n",
    "    accuracy = accuracy_score(y, X[:,i].round())\n",
    "    accs.append(accuracy)\n",
    "    print('{:2} - Acc: {:.3} - P: {:.3} - R: {:.3} - F1: {:.3}'.format(\n",
    "        i, accuracy_score(y, X[:,i].round()), precision_score(y, X[:,i].round()),\n",
    "        precision_score(y, X[:,i].round()), f1_score(y, X[:,i].round()))\n",
    "    )\n",
    "    \n",
    "mean_accs = sum(accs) / len(accs)\n",
    "print('\\nMean accuracy:', mean_accs)"
   ]
  },
  {
   "cell_type": "code",
   "execution_count": 11,
   "metadata": {},
   "outputs": [
    {
     "name": "stdout",
     "output_type": "stream",
     "text": [
      "Top-42; Col: 11; Acc/F1: 82.1 / 82.3\n",
      "Top-41; Col: 22; Acc/F1: 82.6 / 83.0\n",
      "Top-40; Col: 27; Acc/F1: 82.6 / 82.6\n",
      "Top-39; Col:  0; Acc/F1: 82.4 / 82.5\n",
      "Top-38; Col: 39; Acc/F1: 82.4 / 82.2\n",
      "Top-37; Col: 25; Acc/F1: 83.1 / 83.2\n",
      "Top-36; Col:  1; Acc/F1: 82.4 / 82.2\n",
      "Top-35; Col: 37; Acc/F1: 83.1 / 83.1\n",
      "Top-34; Col: 24; Acc/F1: 81.7 / 81.4\n",
      "Top-33; Col: 38; Acc/F1: 81.4 / 81.2\n",
      "Top-32; Col:  7; Acc/F1: 81.7 / 81.3\n",
      "Top-31; Col: 19; Acc/F1: 81.4 / 81.1\n",
      "Top-30; Col:  2; Acc/F1: 81.2 / 80.6\n",
      "Top-29; Col: 40; Acc/F1: 81.2 / 80.7\n",
      "Top-28; Col: 32; Acc/F1: 81.2 / 80.4\n",
      "Top-27; Col: 18; Acc/F1: 81.2 / 80.7\n",
      "Top-26; Col: 30; Acc/F1: 81.7 / 80.9\n",
      "Top-25; Col: 33; Acc/F1: 81.4 / 80.8\n",
      "Top-24; Col: 23; Acc/F1: 81.0 / 79.9\n",
      "Top-23; Col: 36; Acc/F1: 81.0 / 80.2\n",
      "Top-22; Col: 31; Acc/F1: 81.0 / 80.0\n",
      "Top-21; Col: 41; Acc/F1: 81.7 / 81.0\n",
      "Top-20; Col: 35; Acc/F1: 81.0 / 79.8\n",
      "Top-19; Col:  6; Acc/F1: 82.1 / 81.3\n",
      "Top-18; Col: 12; Acc/F1: 81.7 / 80.5\n",
      "Top-17; Col: 16; Acc/F1: 82.4 / 81.6\n",
      "Top-16; Col: 29; Acc/F1: 81.7 / 80.5\n",
      "Top-15; Col:  9; Acc/F1: 81.7 / 80.8\n",
      "Top-14; Col: 34; Acc/F1: 81.9 / 80.9\n",
      "Top-13; Col: 15; Acc/F1: 84.3 / 83.9\n",
      "Top-12; Col:  3; Acc/F1: 82.9 / 82.1\n",
      "Top-11; Col: 20; Acc/F1: 84.0 / 83.9\n",
      "Top-10; Col:  4; Acc/F1: 83.8 / 83.4\n",
      "Top- 9; Col:  8; Acc/F1: 83.6 / 83.5\n",
      "Top- 8; Col:  5; Acc/F1: 83.1 / 82.7\n",
      "Top- 7; Col: 17; Acc/F1: 83.1 / 83.5\n",
      "Top- 6; Col: 21; Acc/F1: 83.3 / 83.3\n",
      "Top- 5; Col: 28; Acc/F1: 82.6 / 83.3\n",
      "Top- 4; Col: 26; Acc/F1: 83.8 / 83.7\n",
      "Top- 3; Col: 13; Acc/F1: 80.7 / 82.4\n",
      "Top- 2; Col: 14; Acc/F1: 82.1 / 83.1\n",
      "Top- 1; Col: 10; Acc/F1: 81.4 / 81.6\n"
     ]
    }
   ],
   "source": [
    "## Remove worst classifier/col one classifier/col at a time, plot majority vote for each state of the dataset\n",
    "from sklearn.metrics import f1_score, accuracy_score\n",
    "accs = np.array(accs)\n",
    "\n",
    "accs_over_removals = list()\n",
    "f1_over_removals   = list()\n",
    "\n",
    "used_columns = [True for _ in range(X.shape[1])]\n",
    "\n",
    "for i in np.argsort(accs):\n",
    "    X_tmp = X[:,used_columns]\n",
    "    y_votes = [majority_vote(x) for x in X_tmp]\n",
    "    a = accuracy_score(y, y_votes) * 100\n",
    "    f = f1_score(y, y_votes) * 100\n",
    "    print('Top-{:2}; Col: {:2}; Acc/F1: {:.3} / {:.3}'.format(X_tmp.shape[1], i, a, f))\n",
    "    \n",
    "    accs_over_removals.append(a)\n",
    "    f1_over_removals.append(f)\n",
    "    used_columns[i] = False"
   ]
  },
  {
   "cell_type": "code",
   "execution_count": 12,
   "metadata": {},
   "outputs": [
    {
     "data": {
      "image/png": "[encoded data removed]",
      "text/plain": [
       "<Figure size 324x252 with 1 Axes>"
      ]
     },
     "metadata": {
      "needs_background": "light"
     },
     "output_type": "display_data"
    }
   ],
   "source": [
    "%matplotlib inline\n",
    "import matplotlib.pyplot as plt\n",
    "plt.title('Majority vote classification with top-n systems', y=1.03)\n",
    "\n",
    "#plt.plot(f1_over_removals, 'r-+')\n",
    "plt.plot(accs_over_removals, 'b-+', label='vote of top-n')\n",
    "\n",
    "x_ticks = [n for n in range(len(accs_over_removals)) if n % 3 == 0 or n == 41]\n",
    "plt.xticks(ticks=x_ticks, labels=[len(accs_over_removals) - i for i in x_ticks])\n",
    "plt.ylim(80, 86.5)\n",
    "\n",
    "plt.axhline(y=accs.max() * 100, label='best individual (top-1)', color='r', linestyle='--')\n",
    "plt.axhline(y=accs_over_removals[0], label='vote of top-42', color='g', linestyle=':')\n",
    "plt.axhline(y=rf_cv_acc * 100, label='RF (10-fold CV)', color='orange', linestyle='-.')\n",
    "\n",
    "plt.xlabel('n')\n",
    "plt.ylabel('accuracy')\n",
    "plt.legend(loc='best')\n",
    "\n",
    "fig = plt.gcf()\n",
    "fig.set_size_inches(4.5, 3.5)\n",
    "plt.savefig('../imgs/meta-learning.png', dpi=300, bbox_inches='tight')"
   ]
  },
  {
   "cell_type": "code",
   "execution_count": null,
   "metadata": {},
   "outputs": [],
   "source": []
  }
 ],
 "metadata": {
  "kernelspec": {
   "display_name": "Python 3",
   "language": "python",
   "name": "python3"
  },
  "language_info": {
   "codemirror_mode": {
    "name": "ipython",
    "version": 3
   },
   "file_extension": ".py",
   "mimetype": "text/x-python",
   "name": "python",
   "nbconvert_exporter": "python",
   "pygments_lexer": "ipython3",
   "version": "3.5.6"
  }
 },
 "nbformat": 4,
 "nbformat_minor": 2
}
