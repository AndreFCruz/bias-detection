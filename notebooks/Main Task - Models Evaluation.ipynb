{
 "cells": [
  {
   "cell_type": "code",
   "execution_count": 1,
   "metadata": {},
   "outputs": [],
   "source": [
    "### Evaluation of the SVM, RF and GBT models cited in the paper\n",
    "SVM_PATH     = '../classifiers/grid_search_best_SVC_74.11.pickle'\n",
    "RF_PATH      = '../classifiers/grid_search_best_RF_77.98.pickle'\n",
    "OLD_RF_PATH  = '../classifiers/RF_by-article_stats-and-counts.pickle'\n",
    "GBT_PATH     = '../classifiers/grid_search_best_GradBoostTree_78.14.pickle'\n",
    "DATASET_PATH = '../generated_datasets/by-article_stats-and-counts.npz'"
   ]
  },
  {
   "cell_type": "code",
   "execution_count": 2,
   "metadata": {},
   "outputs": [],
   "source": [
    "import pickle\n",
    "import numpy as np\n",
    "\n",
    "svm_clf = pickle.load(open(SVM_PATH, 'rb'))\n",
    "rf_clf  = pickle.load(open(RF_PATH, 'rb'))\n",
    "old_rf_clf  = pickle.load(open(RF_PATH, 'rb'))\n",
    "gbt_clf = pickle.load(open(GBT_PATH, 'rb'))\n",
    "\n",
    "data = np.load(DATASET_PATH)\n",
    "X, y = data['X'], data['y']"
   ]
  },
  {
   "cell_type": "code",
   "execution_count": 3,
   "metadata": {},
   "outputs": [],
   "source": [
    "from sklearn.model_selection import cross_validate\n",
    "\n",
    "def assess_performance(clf, X, y, cv=10):\n",
    "    cv = cross_validate(\n",
    "        clf, X, y,\n",
    "        cv=cv,\n",
    "        scoring=['accuracy', 'precision', 'recall', 'f1'],\n",
    "        return_train_score=True\n",
    "    )\n",
    "    \n",
    "    for metric, vals in cv.items():\n",
    "        vals = np.array(vals) * 100\n",
    "        mean = np.mean(vals)\n",
    "        variance = np.var(vals)\n",
    "        print('{:10}\\t: mean: {:4.4} ; var: {:4.4}'.format(metric, mean, variance))\n",
    "        \n",
    "    return cv"
   ]
  },
  {
   "cell_type": "code",
   "execution_count": 4,
   "metadata": {},
   "outputs": [],
   "source": [
    "from sklearn.model_selection import StratifiedShuffleSplit\n",
    "\n",
    "cv_split = StratifiedShuffleSplit(n_splits=500, test_size=0.2)\n",
    "#cv_split = 10"
   ]
  },
  {
   "cell_type": "code",
   "execution_count": 5,
   "metadata": {},
   "outputs": [
    {
     "name": "stdout",
     "output_type": "stream",
     "text": [
      "\t** SVM **\n",
      "train_accuracy\t: mean: 76.98 ; var: 4.428\n",
      "test_f1   \t: mean: 55.14 ; var: 41.57\n",
      "train_precision\t: mean: 78.42 ; var: 8.33\n",
      "train_f1  \t: mean: 62.15 ; var: 20.52\n",
      "test_recall\t: mean: 45.53 ; var: 57.53\n",
      "test_accuracy\t: mean: 72.73 ; var: 9.903\n",
      "train_recall\t: mean: 51.59 ; var: 26.75\n",
      "score_time\t: mean: 0.2327 ; var: 0.0004185\n",
      "fit_time  \t: mean: 0.6445 ; var: 0.02563\n",
      "test_precision\t: mean: 71.25 ; var: 50.17\n"
     ]
    }
   ],
   "source": [
    "print('\\t** SVM **')\n",
    "svm_cv = assess_performance(svm_clf, X, y, cv=cv_split)"
   ]
  },
  {
   "cell_type": "code",
   "execution_count": 6,
   "metadata": {},
   "outputs": [
    {
     "name": "stdout",
     "output_type": "stream",
     "text": [
      "\t** RF **\n",
      "train_accuracy\t: mean: 100.0 ; var: 0.000224\n",
      "test_f1   \t: mean: 63.33 ; var: 30.05\n",
      "train_precision\t: mean: 100.0 ; var:  0.0\n",
      "train_f1  \t: mean: 100.0 ; var: 0.0004152\n",
      "test_recall\t: mean: 55.39 ; var: 44.58\n",
      "test_accuracy\t: mean: 76.27 ; var: 10.22\n",
      "train_recall\t: mean: 100.0 ; var: 0.001652\n",
      "score_time\t: mean: 3.969 ; var: 0.06518\n",
      "fit_time  \t: mean: 16.77 ; var: 0.8385\n",
      "test_precision\t: mean: 74.62 ; var: 40.69\n"
     ]
    }
   ],
   "source": [
    "print('\\t** RF **')\n",
    "rf_cv = assess_performance(rf_clf, X, y, cv=cv_split)"
   ]
  },
  {
   "cell_type": "code",
   "execution_count": 7,
   "metadata": {},
   "outputs": [
    {
     "name": "stdout",
     "output_type": "stream",
     "text": [
      "\t** Old RF **\n",
      "train_accuracy\t: mean: 100.0 ; var: 0.0001496\n",
      "test_f1   \t: mean: 63.29 ; var: 31.06\n",
      "train_precision\t: mean: 100.0 ; var:  0.0\n",
      "train_f1  \t: mean: 100.0 ; var: 0.0002774\n",
      "test_recall\t: mean: 55.15 ; var: 47.37\n",
      "test_accuracy\t: mean: 76.35 ; var: 9.861\n",
      "train_recall\t: mean: 100.0 ; var: 0.001104\n",
      "score_time\t: mean: 4.007 ; var: 0.217\n",
      "fit_time  \t: mean: 16.97 ; var: 1.642\n",
      "test_precision\t: mean: 74.98 ; var: 38.54\n"
     ]
    }
   ],
   "source": [
    "print('\\t** Old RF **')\n",
    "old_rf_cv = assess_performance(old_rf_clf, X, y, cv=cv_split)"
   ]
  },
  {
   "cell_type": "code",
   "execution_count": 8,
   "metadata": {
    "scrolled": true
   },
   "outputs": [
    {
     "name": "stdout",
     "output_type": "stream",
     "text": [
      "\t** GBT **\n",
      "train_accuracy\t: mean: 100.0 ; var:  0.0\n",
      "test_f1   \t: mean: 64.58 ; var: 27.05\n",
      "train_precision\t: mean: 100.0 ; var:  0.0\n",
      "train_f1  \t: mean: 100.0 ; var:  0.0\n",
      "test_recall\t: mean: 59.41 ; var: 47.99\n",
      "test_accuracy\t: mean: 75.89 ; var: 10.31\n",
      "train_recall\t: mean: 100.0 ; var:  0.0\n",
      "score_time\t: mean: 0.4186 ; var: 0.005305\n",
      "fit_time  \t: mean: 33.17 ; var: 9.128\n",
      "test_precision\t: mean: 71.38 ; var: 34.2\n"
     ]
    }
   ],
   "source": [
    "print('\\t** GBT **')\n",
    "gbt_cv = assess_performance(gbt_clf, X, y, cv=cv_split)"
   ]
  },
  {
   "cell_type": "code",
   "execution_count": null,
   "metadata": {},
   "outputs": [],
   "source": []
  }
 ],
 "metadata": {
  "kernelspec": {
   "display_name": "Python 3",
   "language": "python",
   "name": "python3"
  },
  "language_info": {
   "codemirror_mode": {
    "name": "ipython",
    "version": 3
   },
   "file_extension": ".py",
   "mimetype": "text/x-python",
   "name": "python",
   "nbconvert_exporter": "python",
   "pygments_lexer": "ipython3",
   "version": "3.5.6"
  }
 },
 "nbformat": 4,
 "nbformat_minor": 2
}
